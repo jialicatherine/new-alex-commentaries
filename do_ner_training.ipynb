{
 "cells": [
  {
   "cell_type": "code",
   "execution_count": 1,
   "metadata": {},
   "outputs": [],
   "source": [
    "%load_ext autoreload"
   ]
  },
  {
   "cell_type": "code",
   "execution_count": 2,
   "metadata": {},
   "outputs": [],
   "source": [
    "%autoreload 2"
   ]
  },
  {
   "cell_type": "code",
   "execution_count": 50,
   "metadata": {},
   "outputs": [],
   "source": [
    "import requests\n",
    "import random\n",
    "import pickle\n",
    "from bs4 import BeautifulSoup\n",
    "from internetarchive import search_items, get_item, Search\n",
    "\n",
    "from torch.utils.data.dataloader import DataLoader\n",
    "from transformers import BertForTokenClassification, AdamW, BertTokenizer, BertTokenizerFast, BatchEncoding, TrainingArguments, Trainer\n",
    "from dataclasses import dataclass\n",
    "from typing import List"
   ]
  },
  {
   "cell_type": "code",
   "execution_count": 4,
   "metadata": {},
   "outputs": [],
   "source": [
    "from ner_pipeline.scrape_for_training import do_search, prepare_data\n",
    "from ner_pipeline.containers import TraingingBatch\n",
    "from ner_pipeline.dataset_ner import TrainingDataset\n",
    "from ner_pipeline.labelset import LabelSet"
   ]
  },
  {
   "cell_type": "code",
   "execution_count": 5,
   "metadata": {
    "scrolled": true
   },
   "outputs": [
    {
     "name": "stdout",
     "output_type": "stream",
     "text": [
      "Search string: iliad OR odyssey AND mediatype:texts\n",
      "Results: 538984\n"
     ]
    }
   ],
   "source": [
    "# Do search\n",
    "il_od: str = \"iliad OR odyssey AND mediatype:texts\"  # 771,646 with full_text_search, 6240 without\n",
    "search_res: Search = do_search(keyword_string=il_od)"
   ]
  },
  {
   "cell_type": "code",
   "execution_count": 10,
   "metadata": {},
   "outputs": [],
   "source": [
    "pattern = r'Iliad\\s\\d{1,2}\\.\\d{1,4}|Il\\.*\\s\\d{1,2}\\.\\d{1,4}|Iliad\\s.[ivxlcdm]*\\.\\s*\\d{1,4}| \\\n",
    "            Il\\.*\\s.[ivxlcdm]*\\.\\s*\\d{1,4}|book\\s*.[ivxlcdm]\\.\\sline\\s*\\d{1,4}| \\\n",
    "            Odyssey\\s\\d{1,2}\\.\\d{1,4}|Od\\.*\\s\\d{1,2}\\.\\d{1,4}|Odyssey\\s.[ivxlcdm]*\\.\\s*\\d{1,4}| \\\n",
    "            Od\\.*\\s.[ivxlcdm]*\\.\\s*\\d{1,4}'"
   ]
  },
  {
   "cell_type": "code",
   "execution_count": 20,
   "metadata": {},
   "outputs": [
    {
     "name": "stdout",
     "output_type": "stream",
     "text": [
      "Successfully got 10 positive data and 10 negative data by scraping 15 books!\n"
     ]
    }
   ],
   "source": [
    "labeled_data = prepare_data(search_res, pattern, num_of_pos = 10000, num_of_neg = 10000)"
   ]
  },
  {
   "cell_type": "code",
   "execution_count": 21,
   "metadata": {},
   "outputs": [
    {
     "name": "stdout",
     "output_type": "stream",
     "text": [
      "20\n"
     ]
    }
   ],
   "source": [
    "print(len(labeled_data))"
   ]
  },
  {
   "cell_type": "code",
   "execution_count": 27,
   "metadata": {},
   "outputs": [],
   "source": [
    "random.shuffle(labeled_data)"
   ]
  },
  {
   "cell_type": "code",
   "execution_count": 22,
   "metadata": {},
   "outputs": [],
   "source": [
    "tokenizer = BertTokenizerFast.from_pretrained('bert-base-cased')\n",
    "label_set = LabelSet(labels=[\"Citation\"]) #Only one label in this dataset"
   ]
  },
  {
   "cell_type": "code",
   "execution_count": 28,
   "metadata": {},
   "outputs": [],
   "source": [
    "il_od_ner_trainingData = TrainingDataset(\n",
    "    data=labeled_data, tokenizer=tokenizer, label_set=label_set, tokens_per_batch=16\n",
    ")"
   ]
  },
  {
   "cell_type": "code",
   "execution_count": 38,
   "metadata": {},
   "outputs": [
    {
     "name": "stdout",
     "output_type": "stream",
     "text": [
      "[TrainingExample(input_ids=[1109, 1269, 2442, 4467, 1107, 1103, 21339, 193, 8745, 119, 8301, 119, 117, 1105, 1107, 0], attention_mask=[1, 1, 1, 1, 1, 1, 1, 1, 1, 1, 1, 1, 1, 1, 1, 0], labels=[0, 0, 0, 0, 0, 0, 1, 2, 2, 2, 3, 0, 0, 0, 0, -100]), TrainingExample(input_ids=[794, 871, 28765, 131, 115, 111, 112, 871, 118, 122, 0, 0, 0, 0, 0, 0], attention_mask=[1, 1, 1, 1, 1, 1, 1, 1, 1, 1, 0, 0, 0, 0, 0, 0], labels=[0, 0, 0, 0, 0, 0, 0, 0, 0, 0, -100, -100, -100, -100, -100, -100]), TrainingExample(input_ids=[1103, 9190, 1465, 1181, 191, 1182, 119, 24680, 119, 1120, 1103, 1601, 1104, 1103, 3669, 1206], attention_mask=[1, 1, 1, 1, 1, 1, 1, 1, 1, 1, 1, 1, 1, 1, 1, 1], labels=[0, 1, 2, 2, 2, 2, 2, 3, 0, 0, 0, 0, 0, 0, 0, 0])]\n"
     ]
    }
   ],
   "source": [
    "print(il_od_ner_trainingData[:3])"
   ]
  },
  {
   "cell_type": "code",
   "execution_count": 48,
   "metadata": {},
   "outputs": [],
   "source": [
    "dataset_size = len(il_od_ner_trainingData)\n",
    "dataset_train = il_od_ner_trainingData[:dataset_size*7//10]\n",
    "dataset_train_size = len(dataset_train)\n",
    "dataset_eval = il_od_ner_trainingData[dataset_size*7//10:dataset_size*7//10+dataset_size*3//20]\n",
    "dataset_eval_size = len(dataset_eval)\n",
    "dataset_test = il_od_ner_trainingData[dataset_size*7//10+dataset_size*3//20:]\n",
    "dataset_test_size = len(dataset_test)"
   ]
  },
  {
   "cell_type": "code",
   "execution_count": 63,
   "metadata": {},
   "outputs": [],
   "source": [
    "# Save train/eval/test\n",
    "with open(\"labeled_data/train_\" + str(dataset_train_size) + \"_of_\" + str(dataset_size) + \".pickle\", \"wb\") as dataset_train_file:\n",
    "    pickle.dump(dataset_train, dataset_train_file)\n",
    "\n",
    "# # load the object\n",
    "# with open(\"labeled_data/train_\" + str(dataset_train_size) + \"_of_\" + str(dataset_size) + \".pickle\", \"rb\") as dataset_train_file:\n",
    "#     p2 = pickle.load(dataset_train_file)\n",
    "\n",
    "with open(\"labeled_data/eval_\" + str(dataset_eval_size) + \"_of_\" + str(dataset_size) + \".pickle\", \"wb\") as dataset_eval_file:\n",
    "    pickle.dump(dataset_eval, dataset_eval_file)\n",
    "\n",
    "with open(\"labeled_data/test_\" + str(dataset_test_size) + \"_of_\" + str(dataset_size) + \".pickle\", \"wb\") as dataset_test_file:\n",
    "    pickle.dump(dataset_test, dataset_test_file)"
   ]
  },
  {
   "cell_type": "code",
   "execution_count": 64,
   "metadata": {},
   "outputs": [
    {
     "name": "stderr",
     "output_type": "stream",
     "text": [
      "Some weights of the model checkpoint at bert-base-cased were not used when initializing BertForTokenClassification: ['cls.seq_relationship.weight', 'cls.seq_relationship.bias', 'cls.predictions.decoder.weight', 'cls.predictions.transform.LayerNorm.weight', 'cls.predictions.bias', 'cls.predictions.transform.LayerNorm.bias', 'cls.predictions.transform.dense.weight', 'cls.predictions.transform.dense.bias']\n",
      "- This IS expected if you are initializing BertForTokenClassification from the checkpoint of a model trained on another task or with another architecture (e.g. initializing a BertForSequenceClassification model from a BertForPreTraining model).\n",
      "- This IS NOT expected if you are initializing BertForTokenClassification from the checkpoint of a model that you expect to be exactly identical (initializing a BertForSequenceClassification model from a BertForSequenceClassification model).\n",
      "Some weights of BertForTokenClassification were not initialized from the model checkpoint at bert-base-cased and are newly initialized: ['classifier.weight', 'classifier.bias']\n",
      "You should probably TRAIN this model on a down-stream task to be able to use it for predictions and inference.\n"
     ]
    }
   ],
   "source": [
    "model = BertForTokenClassification.from_pretrained(\n",
    "    \"bert-base-cased\", num_labels=len(il_od_ner_trainingData.label_set.ids_to_label.values())\n",
    ")"
   ]
  },
  {
   "cell_type": "code",
   "execution_count": 65,
   "metadata": {},
   "outputs": [],
   "source": [
    "training_args = TrainingArguments(\"test_trainer\")"
   ]
  },
  {
   "cell_type": "code",
   "execution_count": 66,
   "metadata": {},
   "outputs": [],
   "source": [
    "trainer = Trainer(\n",
    "    model=model, args=training_args, train_dataset=dataset_train, eval_dataset=dataset_eval\n",
    ")"
   ]
  },
  {
   "cell_type": "code",
   "execution_count": null,
   "metadata": {},
   "outputs": [],
   "source": [
    "trainer.train()"
   ]
  },
  {
   "cell_type": "code",
   "execution_count": null,
   "metadata": {},
   "outputs": [],
   "source": [
    "trainer.save_model('bert_ner_il_od-with-gpu-10000.model')"
   ]
  }
 ],
 "metadata": {
  "kernelspec": {
   "display_name": "Anaconda (base)",
   "language": "python",
   "name": "anaconda-base"
  },
  "language_info": {
   "codemirror_mode": {
    "name": "ipython",
    "version": 3
   },
   "file_extension": ".py",
   "mimetype": "text/x-python",
   "name": "python",
   "nbconvert_exporter": "python",
   "pygments_lexer": "ipython3",
   "version": "3.9.5"
  }
 },
 "nbformat": 4,
 "nbformat_minor": 2
}
